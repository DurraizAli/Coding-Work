{
 "cells": [
  {
   "cell_type": "code",
   "execution_count": 7,
   "metadata": {},
   "outputs": [
    {
     "name": "stdout",
     "output_type": "stream",
     "text": [
      "Predicted values: -1.719868091075618e+299\n"
     ]
    }
   ],
   "source": [
    "import numpy as np\n",
    "\n",
    "# Assuming these are the optimized values of m and c after training\n",
    "# Example values for m and c from training\n",
    "m = np.array([-8.58520174e+297 ,-9.31024896e+297, -7.05297435e+297 ,-7.99169361e+297])  # Replace with actual optimized parameters\n",
    "c = -1.3474072838617693e+297 # Replace with actual optimized intercept\n",
    "\n",
    "# Data for prediction (new inputs with 4 features, as in your example)\n",
    "X_new = np.array([2.34, 7.85, 4.23, 5.96])\n",
    "\n",
    "# Function to predict based on new data and the trained model\n",
    "def predict(X_new, m, c):\n",
    "   \n",
    "    # Normalize new data if necessary, but here we'll assume no normalization\n",
    "    y_pred = np.dot(X_new, m) + c\n",
    "    return y_pred\n",
    "\n",
    "# Make predictions\n",
    "y_pred_new = predict(X_new, m, c)\n",
    "print(\"Predicted values:\", y_pred_new)\n"
   ]
  }
 ],
 "metadata": {
  "kernelspec": {
   "display_name": "Python 3",
   "language": "python",
   "name": "python3"
  },
  "language_info": {
   "codemirror_mode": {
    "name": "ipython",
    "version": 3
   },
   "file_extension": ".py",
   "mimetype": "text/x-python",
   "name": "python",
   "nbconvert_exporter": "python",
   "pygments_lexer": "ipython3",
   "version": "3.8.10"
  }
 },
 "nbformat": 4,
 "nbformat_minor": 2
}
